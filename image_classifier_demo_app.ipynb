{
 "cells": [
  {
   "cell_type": "markdown",
   "metadata": {},
   "source": [
    "Hello Indian Foodies, upload an image of any of the following categories and click 'classify' button to see the model's prediction.\n",
    "\n",
    "Available categories: `('dosa','naan','paratha','roti','utappam')`\n",
    "\n",
    "NOTE: The model will return some garbage prediction value for any image that isn't under any of the above categories mentioned."
   ]
  },
  {
   "cell_type": "code",
   "execution_count": null,
   "metadata": {},
   "outputs": [],
   "source": [
    "from fastai.vision.all import *\n",
    "from fastai.vision.widgets import *"
   ]
  },
  {
   "cell_type": "code",
   "execution_count": null,
   "metadata": {},
   "outputs": [],
   "source": [
    "MODEL_FILEPATH = 'food_model.pkl'\n",
    "model = load_learner(MODEL_FILEPATH)"
   ]
  },
  {
   "cell_type": "code",
   "execution_count": null,
   "metadata": {},
   "outputs": [],
   "source": [
    "upload_button = widgets.FileUpload()\n",
    "output = widgets.Output()\n",
    "classify_button = widgets.Button(description='classify')\n",
    "label = widgets.Label()"
   ]
  },
  {
   "cell_type": "code",
   "execution_count": null,
   "metadata": {},
   "outputs": [],
   "source": [
    "def classify_image(change):\n",
    "    img = PILImage.create(upload_button.data[-1])\n",
    "    output.clear_output()\n",
    "    with output:\n",
    "        display(img.to_thumb(256, 256))\n",
    "    pred, cat, vals = model.predict(img)\n",
    "    label.value = f'it is \"{pred}\" with an accuracy of {vals[cat]:.2f}'\n",
    "    print(label.value)"
   ]
  },
  {
   "cell_type": "code",
   "execution_count": null,
   "metadata": {},
   "outputs": [],
   "source": [
    "classify_button.on_click(classify_image)"
   ]
  },
  {
   "cell_type": "code",
   "execution_count": null,
   "metadata": {},
   "outputs": [],
   "source": [
    "app = VBox([widgets.Label(f'upload an image of one of {tuple(model.dls.vocab)}:'),\n",
    "             upload_button, output, classify_button, label])"
   ]
  },
  {
   "cell_type": "code",
   "execution_count": null,
   "metadata": {},
   "outputs": [],
   "source": [
    "app"
   ]
  },
  {
   "cell_type": "code",
   "execution_count": null,
   "metadata": {},
   "outputs": [],
   "source": [
    "upload_button.close_all()"
   ]
  },
  {
   "cell_type": "code",
   "execution_count": null,
   "metadata": {},
   "outputs": [],
   "source": []
  }
 ],
 "metadata": {
  "kernelspec": {
   "display_name": "Python [conda env:fastai] *",
   "language": "python",
   "name": "conda-env-fastai-py"
  },
  "language_info": {
   "codemirror_mode": {
    "name": "ipython",
    "version": 3
   },
   "file_extension": ".py",
   "mimetype": "text/x-python",
   "name": "python",
   "nbconvert_exporter": "python",
   "pygments_lexer": "ipython3",
   "version": "3.8.2"
  }
 },
 "nbformat": 4,
 "nbformat_minor": 4
}
